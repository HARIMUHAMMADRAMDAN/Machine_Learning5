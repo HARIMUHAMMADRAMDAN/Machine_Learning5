{
  "nbformat": 4,
  "nbformat_minor": 0,
  "metadata": {
    "colab": {
      "provenance": []
    },
    "kernelspec": {
      "name": "python3",
      "display_name": "Python 3"
    },
    "language_info": {
      "name": "python"
    }
  },
  "cells": [
    {
      "cell_type": "code",
      "execution_count": 1,
      "metadata": {
        "colab": {
          "base_uri": "https://localhost:8080/"
        },
        "id": "tAZjE93vmWnj",
        "outputId": "d18fef07-1233-492c-bbab-1f8b088bffac"
      },
      "outputs": [
        {
          "output_type": "stream",
          "name": "stdout",
          "text": [
            "Requirement already satisfied: xgboost in /usr/local/lib/python3.10/dist-packages (2.0.3)\n",
            "Requirement already satisfied: numpy in /usr/local/lib/python3.10/dist-packages (from xgboost) (1.25.2)\n",
            "Requirement already satisfied: scipy in /usr/local/lib/python3.10/dist-packages (from xgboost) (1.11.4)\n",
            "Requirement already satisfied: pandas in /usr/local/lib/python3.10/dist-packages (2.0.3)\n",
            "Requirement already satisfied: openpyxl in /usr/local/lib/python3.10/dist-packages (3.1.2)\n",
            "Requirement already satisfied: python-dateutil>=2.8.2 in /usr/local/lib/python3.10/dist-packages (from pandas) (2.8.2)\n",
            "Requirement already satisfied: pytz>=2020.1 in /usr/local/lib/python3.10/dist-packages (from pandas) (2023.4)\n",
            "Requirement already satisfied: tzdata>=2022.1 in /usr/local/lib/python3.10/dist-packages (from pandas) (2024.1)\n",
            "Requirement already satisfied: numpy>=1.21.0 in /usr/local/lib/python3.10/dist-packages (from pandas) (1.25.2)\n",
            "Requirement already satisfied: et-xmlfile in /usr/local/lib/python3.10/dist-packages (from openpyxl) (1.1.0)\n",
            "Requirement already satisfied: six>=1.5 in /usr/local/lib/python3.10/dist-packages (from python-dateutil>=2.8.2->pandas) (1.16.0)\n"
          ]
        }
      ],
      "source": [
        "# Instalasi paket yang diperlukan (Jika belum terpasang)\n",
        "!pip install xgboost\n",
        "!pip install pandas openpyxl\n"
      ]
    },
    {
      "cell_type": "code",
      "source": [
        "# Import libraries\n",
        "import pandas as pd\n",
        "import numpy as np\n",
        "from sklearn.model_selection import train_test_split\n",
        "from sklearn.ensemble import RandomForestClassifier\n",
        "from xgboost import XGBClassifier\n",
        "from sklearn.metrics import accuracy_score, classification_report, confusion_matrix\n"
      ],
      "metadata": {
        "id": "LK60b30BmXoa"
      },
      "execution_count": 2,
      "outputs": []
    },
    {
      "cell_type": "code",
      "source": [
        "# Muat data dari file Excel\n",
        "df = pd.read_excel('data_kelulusan.xlsx')\n",
        "\n",
        "# Tampilkan nama-nama kolom untuk memastikan semuanya sesuai\n",
        "print(df.columns)\n",
        "\n",
        "# Tampilkan DataFrame untuk pemeriksaan lebih lanjut\n",
        "print(df.head())\n"
      ],
      "metadata": {
        "colab": {
          "base_uri": "https://localhost:8080/"
        },
        "id": "rP-3utFtmYeq",
        "outputId": "95c93d31-3223-4dd9-8755-d8b22c9ddffa"
      },
      "execution_count": 3,
      "outputs": [
        {
          "output_type": "stream",
          "name": "stdout",
          "text": [
            "Index(['KUIS', 'TUGAS', 'UTS', 'UAS', 'JK', 'NA'], dtype='object')\n",
            "   KUIS  TUGAS  UTS  UAS JK     NA\n",
            "0    70     85   88   80  L  80.75\n",
            "1    60     70   77   65  L  68.00\n",
            "2    80     80   80   80  L  80.00\n",
            "3    79     80   65   60  L  71.00\n",
            "4    55     70   80   85  L  72.50\n"
          ]
        }
      ]
    },
    {
      "cell_type": "code",
      "source": [
        "# Pastikan kolom-kolom yang diharapkan ada di dalam DataFrame\n",
        "expected_columns = ['KUIS', 'TUGAS', 'UTS', 'UAS', 'JK', 'NA']\n",
        "for col in expected_columns:\n",
        "    if col not in df.columns:\n",
        "        raise ValueError(f\"Kolom {col} tidak ditemukan di dalam DataFrame\")\n",
        "\n",
        "# Tetapkan nilai lulus (NA lebih besar dari 60 dianggap lulus)\n",
        "df['Target'] = np.where(df['NA'] > 60, 'Lulus', 'Tidak')\n",
        "\n",
        "# Encode target variable dan jenis kelamin\n",
        "df['Target'] = df['Target'].map({'Lulus': 1, 'Tidak': 0})\n",
        "df['JK'] = df['JK'].map({'L': 1, 'P': 0})\n",
        "\n",
        "# Split data into features and target\n",
        "X = df.drop(['Target', 'NA'], axis=1)\n",
        "y = df['Target']\n",
        "\n",
        "# Split data into training and testing sets (test size 20%)\n",
        "X_train, X_test, y_train, y_test = train_test_split(X, y, test_size=0.2, random_state=42)\n"
      ],
      "metadata": {
        "id": "XOpAvSEbmZ0e"
      },
      "execution_count": 4,
      "outputs": []
    },
    {
      "cell_type": "code",
      "source": [
        "# Train Random Forest model\n",
        "rf_model = RandomForestClassifier(n_estimators=100, random_state=42)\n",
        "rf_model.fit(X_train, y_train)\n",
        "rf_predictions = rf_model.predict(X_test)\n"
      ],
      "metadata": {
        "id": "hjLMKENzmcPB"
      },
      "execution_count": 5,
      "outputs": []
    },
    {
      "cell_type": "code",
      "source": [
        "# Train XGBoost model\n",
        "xgb_model = XGBClassifier(use_label_encoder=False, eval_metric='logloss')\n",
        "xgb_model.fit(X_train, y_train)\n",
        "xgb_predictions = xgb_model.predict(X_test)\n"
      ],
      "metadata": {
        "id": "8q5dNMZymfT2"
      },
      "execution_count": 6,
      "outputs": []
    },
    {
      "cell_type": "code",
      "source": [
        "# Evaluate models\n",
        "rf_accuracy = accuracy_score(y_test, rf_predictions)\n",
        "xgb_accuracy = accuracy_score(y_test, xgb_predictions)\n",
        "\n",
        "print(f\"Random Forest Accuracy: {rf_accuracy:.2f}\")\n",
        "print(f\"XGBoost Accuracy: {xgb_accuracy:.2f}\")\n",
        "\n",
        "# Confusion matrices\n",
        "print(\"\\nRandom Forest Confusion Matrix:\")\n",
        "print(confusion_matrix(y_test, rf_predictions))\n",
        "print(\"\\nXGBoost Confusion Matrix:\")\n",
        "print(confusion_matrix(y_test, xgb_predictions))\n",
        "\n",
        "# Classification reports\n",
        "print(\"\\nRandom Forest Classification Report:\")\n",
        "print(classification_report(y_test, rf_predictions))\n",
        "print(\"\\nXGBoost Classification Report:\")\n",
        "print(classification_report(y_test, xgb_predictions))\n",
        "\n",
        "# Interpretasi Model Terbaik\n",
        "if rf_accuracy > xgb_accuracy:\n",
        "    print(\"\\nModel terbaik adalah Random Forest dengan akurasi {:.2f}\".format(rf_accuracy))\n",
        "else:\n",
        "    print(\"\\nModel terbaik adalah XGBoost dengan akurasi {:.2f}\".format(xgb_accuracy))\n"
      ],
      "metadata": {
        "colab": {
          "base_uri": "https://localhost:8080/"
        },
        "id": "XfLnfEIemgSE",
        "outputId": "0e5ed5a2-ca5e-45e8-860d-d7ad48c79c82"
      },
      "execution_count": 7,
      "outputs": [
        {
          "output_type": "stream",
          "name": "stdout",
          "text": [
            "Random Forest Accuracy: 0.80\n",
            "XGBoost Accuracy: 0.70\n",
            "\n",
            "Random Forest Confusion Matrix:\n",
            "[[1 2]\n",
            " [0 7]]\n",
            "\n",
            "XGBoost Confusion Matrix:\n",
            "[[1 2]\n",
            " [1 6]]\n",
            "\n",
            "Random Forest Classification Report:\n",
            "              precision    recall  f1-score   support\n",
            "\n",
            "           0       1.00      0.33      0.50         3\n",
            "           1       0.78      1.00      0.88         7\n",
            "\n",
            "    accuracy                           0.80        10\n",
            "   macro avg       0.89      0.67      0.69        10\n",
            "weighted avg       0.84      0.80      0.76        10\n",
            "\n",
            "\n",
            "XGBoost Classification Report:\n",
            "              precision    recall  f1-score   support\n",
            "\n",
            "           0       0.50      0.33      0.40         3\n",
            "           1       0.75      0.86      0.80         7\n",
            "\n",
            "    accuracy                           0.70        10\n",
            "   macro avg       0.62      0.60      0.60        10\n",
            "weighted avg       0.68      0.70      0.68        10\n",
            "\n",
            "\n",
            "Model terbaik adalah Random Forest dengan akurasi 0.80\n"
          ]
        }
      ]
    }
  ]
}